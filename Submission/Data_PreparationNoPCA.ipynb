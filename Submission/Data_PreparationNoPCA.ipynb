{
  "cells": [
    {
      "cell_type": "code",
      "execution_count": 1,
      "metadata": {
        "colab": {
          "base_uri": "https://localhost:8080/"
        },
        "id": "MrFrVVnem01K",
        "outputId": "916d2c4e-86ed-4717-b573-592ea64bb6d5"
      },
      "outputs": [
        {
          "name": "stdout",
          "output_type": "stream",
          "text": [
            "Requirement already satisfied: category_encoders in c:\\users\\nouran\\appdata\\local\\programs\\python\\python310\\lib\\site-packages (2.8.1)\n",
            "Requirement already satisfied: statsmodels>=0.9.0 in c:\\users\\nouran\\appdata\\local\\programs\\python\\python310\\lib\\site-packages (from category_encoders) (0.14.4)\n",
            "Requirement already satisfied: pandas>=1.0.5 in c:\\users\\nouran\\appdata\\local\\programs\\python\\python310\\lib\\site-packages (from category_encoders) (2.2.3)\n",
            "Requirement already satisfied: scikit-learn>=1.6.0 in c:\\users\\nouran\\appdata\\local\\programs\\python\\python310\\lib\\site-packages (from category_encoders) (1.6.1)\n",
            "Requirement already satisfied: scipy>=1.0.0 in c:\\users\\nouran\\appdata\\local\\programs\\python\\python310\\lib\\site-packages (from category_encoders) (1.15.2)\n",
            "Requirement already satisfied: numpy>=1.14.0 in c:\\users\\nouran\\appdata\\local\\programs\\python\\python310\\lib\\site-packages (from category_encoders) (2.1.3)\n",
            "Requirement already satisfied: patsy>=0.5.1 in c:\\users\\nouran\\appdata\\local\\programs\\python\\python310\\lib\\site-packages (from category_encoders) (1.0.1)\n",
            "Requirement already satisfied: python-dateutil>=2.8.2 in c:\\users\\nouran\\appdata\\roaming\\python\\python310\\site-packages (from pandas>=1.0.5->category_encoders) (2.9.0.post0)\n",
            "Requirement already satisfied: pytz>=2020.1 in c:\\users\\nouran\\appdata\\local\\programs\\python\\python310\\lib\\site-packages (from pandas>=1.0.5->category_encoders) (2025.2)\n",
            "Requirement already satisfied: tzdata>=2022.7 in c:\\users\\nouran\\appdata\\local\\programs\\python\\python310\\lib\\site-packages (from pandas>=1.0.5->category_encoders) (2025.2)\n",
            "Requirement already satisfied: six>=1.5 in c:\\users\\nouran\\appdata\\roaming\\python\\python310\\site-packages (from python-dateutil>=2.8.2->pandas>=1.0.5->category_encoders) (1.17.0)\n",
            "Requirement already satisfied: joblib>=1.2.0 in c:\\users\\nouran\\appdata\\local\\programs\\python\\python310\\lib\\site-packages (from scikit-learn>=1.6.0->category_encoders) (1.4.2)\n",
            "Requirement already satisfied: threadpoolctl>=3.1.0 in c:\\users\\nouran\\appdata\\local\\programs\\python\\python310\\lib\\site-packages (from scikit-learn>=1.6.0->category_encoders) (3.6.0)\n",
            "Requirement already satisfied: packaging>=21.3 in c:\\users\\nouran\\appdata\\roaming\\python\\python310\\site-packages (from statsmodels>=0.9.0->category_encoders) (25.0)\n"
          ]
        },
        {
          "name": "stderr",
          "output_type": "stream",
          "text": [
            "WARNING: You are using pip version 21.2.3; however, version 25.1.1 is available.\n",
            "You should consider upgrading via the 'c:\\Users\\Nouran\\AppData\\Local\\Programs\\Python\\Python310\\python.exe -m pip install --upgrade pip' command.\n"
          ]
        }
      ],
      "source": [
        "import sys\n",
        "!{sys.executable} -m pip install category_encoders\n"
      ]
    },
    {
      "cell_type": "code",
      "execution_count": 2,
      "metadata": {
        "id": "ugTgO7EZmV1K"
      },
      "outputs": [],
      "source": [
        "import pandas as pd\n",
        "import category_encoders as ce\n",
        "import seaborn as sns\n",
        "import matplotlib.pyplot as plt\n",
        "from sklearn.preprocessing import MinMaxScaler\n",
        "from sklearn.decomposition import PCA\n",
        "import joblib"
      ]
    },
    {
      "cell_type": "code",
      "execution_count": 3,
      "metadata": {
        "id": "CSfZ8FX8rbXH"
      },
      "outputs": [],
      "source": [
        "def data_preparation(df, label_column=None, scale_numeric=True, encode_categoricals=True, test_size=0.2, random_state=42):\n",
        "\n",
        "  df['Blood Type'].isnull().sum()\n",
        "\n",
        "  df['Insurance Provider'].fillna(df['Insurance Provider'].mode()[0], inplace=True)\n",
        "\n",
        "  df['Admission Type'].fillna(df['Admission Type'].mode()[0], inplace=True)\n",
        "\n",
        "  df['Hospital'].fillna(df['Hospital'].mode()[0], inplace=True)\n",
        "\n",
        "  df['Billing Amount'].fillna(df['Billing Amount'].mean(), inplace=True)\n",
        "  df['Blood Type'].fillna(df['Blood Type'].mode()[0], inplace=True)\n",
        "\n",
        "  df['Name'] = df['Name'].str.title()\n",
        "\n",
        "  df = pd.get_dummies(df, columns=['Gender'])\n",
        "\n",
        "  df = pd.get_dummies(df, columns=['Blood Type'])\n",
        "\n",
        "  df = pd.get_dummies(df, columns=['Medical Condition'])\n",
        "\n",
        "  df['Date of Admission'] = pd.to_datetime(df['Date of Admission'], errors='coerce', dayfirst=True)\n",
        "\n",
        "  df['Discharge Date'] = pd.to_datetime(df['Discharge Date'], errors='coerce', dayfirst=True)\n",
        "\n",
        "  df['Doctor'] = df['Doctor'].str.title()\n",
        "\n",
        "  df['Hospital'] = df['Hospital'].str.title()\n",
        "\n",
        "  df = pd.get_dummies(df, columns=['Insurance Provider'])\n",
        "\n",
        "  df = pd.get_dummies(df, columns=['Admission Type'])\n",
        "\n",
        "  df = pd.get_dummies(df, columns=['Medication'])\n",
        "\n",
        "  df['Billing_Is_Negative'] = df['Billing Amount'] < 0\n",
        "  df['Billing Amount'] = df['Billing Amount'].abs()\n",
        "\n",
        "  df['Billing_Is_Negative'] = df['Billing Amount'] < 0\n",
        "\n",
        "  df['Billing Amount'] = df['Billing Amount'].abs()\n",
        "\n",
        "  df['Name'] = df['Name'].str.strip()\n",
        "  df['Name'] = df['Name'].str.replace(r'\\s+', '_', regex=True)\n",
        "\n",
        "  df['Doctor'] = df['Doctor'].str.strip()\n",
        "  df['Doctor'] = df['Doctor'].str.replace(r'\\s+', '_', regex=True)\n",
        "\n",
        "  df['Hospital'] = df['Hospital'].str.strip()\n",
        "  df['Hospital'] = df['Hospital'].str.replace(r'\\s+', '_', regex=True)\n",
        "\n",
        "  scaler = MinMaxScaler()\n",
        "\n",
        "  billing_amount_values = df['Billing Amount'].values.reshape(-1, 1)\n",
        "\n",
        "  normalized_billing_amount = scaler.fit_transform(billing_amount_values)\n",
        "\n",
        "  df['Billing Amount'] = normalized_billing_amount\n",
        "\n",
        "  scaler = MinMaxScaler()\n",
        "\n",
        "  age_values = df['Age'].values.reshape(-1, 1)\n",
        "\n",
        "  normalized_age = scaler.fit_transform(age_values)\n",
        "\n",
        "  df['Age'] = normalized_age\n",
        "\n",
        "  df = df.drop('Name', axis=1)\n",
        "\n",
        "  df = df.drop('Room Number', axis=1)\n",
        "\n",
        "  df['Days Spent'] = (df['Discharge Date'] - df['Date of Admission']).dt.days\n",
        "\n",
        "  df = df.drop('Discharge Date', axis=1)\n",
        "\n",
        "  df = df.drop('Date of Admission', axis=1)\n",
        "\n",
        "  df = df.drop('Billing_Is_Negative', axis=1)\n",
        "\n",
        "  scaler = MinMaxScaler()\n",
        "\n",
        "  days_spent_values = df['Days Spent'].values.reshape(-1, 1)\n",
        "\n",
        "  normalized_days_spent = scaler.fit_transform(days_spent_values)\n",
        "\n",
        "  df['Days Spent'] = normalized_days_spent\n",
        "\n",
        "  df = df.drop('Doctor', axis=1)\n",
        "\n",
        "  df = df.drop('Hospital', axis=1)\n",
        "\n",
        "  test_results_df = df[['ID']].copy()\n",
        "\n",
        "  df = df.copy()\n",
        "  df[df.select_dtypes(include='bool').columns] = df.select_dtypes(include='bool').astype(int)\n",
        "\n",
        "\n",
        "\n",
        "  return df"
      ]
    },
    {
      "cell_type": "code",
      "execution_count": 4,
      "metadata": {
        "colab": {
          "base_uri": "https://localhost:8080/",
          "height": 554
        },
        "id": "R2LZt4OHo7Xv",
        "outputId": "3f04335d-16cd-4efe-d055-0ec72a5f66f6"
      },
      "outputs": [
        {
          "data": {
            "text/plain": [
              "ID                      0\n",
              "Name                    0\n",
              "Age                     0\n",
              "Gender                  0\n",
              "Blood Type            308\n",
              "Medical Condition       0\n",
              "Date of Admission       0\n",
              "Doctor                  0\n",
              "Hospital                0\n",
              "Insurance Provider      0\n",
              "Billing Amount          0\n",
              "Room Number             0\n",
              "Admission Type          0\n",
              "Discharge Date          0\n",
              "Medication              0\n",
              "dtype: int64"
            ]
          },
          "execution_count": 4,
          "metadata": {},
          "output_type": "execute_result"
        }
      ],
      "source": [
        "df = pd.read_csv(r'D:\\year 3\\Semester 2\\Machine Learning\\Healthcare-test-results-classification-using-Machine-Learning\\Original Dataset\\test data.csv')\n",
        "df.isnull().sum()"
      ]
    },
    {
      "cell_type": "code",
      "execution_count": 5,
      "metadata": {
        "colab": {
          "base_uri": "https://localhost:8080/",
          "height": 328
        },
        "id": "1cj6wuz32t5z",
        "outputId": "617f99bc-3f02-41ea-9a2b-cf73cabf2404"
      },
      "outputs": [
        {
          "data": {
            "text/html": [
              "<div>\n",
              "<style scoped>\n",
              "    .dataframe tbody tr th:only-of-type {\n",
              "        vertical-align: middle;\n",
              "    }\n",
              "\n",
              "    .dataframe tbody tr th {\n",
              "        vertical-align: top;\n",
              "    }\n",
              "\n",
              "    .dataframe thead th {\n",
              "        text-align: right;\n",
              "    }\n",
              "</style>\n",
              "<table border=\"1\" class=\"dataframe\">\n",
              "  <thead>\n",
              "    <tr style=\"text-align: right;\">\n",
              "      <th></th>\n",
              "      <th>ID</th>\n",
              "      <th>Name</th>\n",
              "      <th>Age</th>\n",
              "      <th>Gender</th>\n",
              "      <th>Blood Type</th>\n",
              "      <th>Medical Condition</th>\n",
              "      <th>Date of Admission</th>\n",
              "      <th>Doctor</th>\n",
              "      <th>Hospital</th>\n",
              "      <th>Insurance Provider</th>\n",
              "      <th>Billing Amount</th>\n",
              "      <th>Room Number</th>\n",
              "      <th>Admission Type</th>\n",
              "      <th>Discharge Date</th>\n",
              "      <th>Medication</th>\n",
              "    </tr>\n",
              "  </thead>\n",
              "  <tbody>\n",
              "    <tr>\n",
              "      <th>0</th>\n",
              "      <td>50001</td>\n",
              "      <td>KRISTa GiBsoN</td>\n",
              "      <td>60</td>\n",
              "      <td>Male</td>\n",
              "      <td>B-</td>\n",
              "      <td>Diabetes</td>\n",
              "      <td>08/04/2019</td>\n",
              "      <td>Bruce Garrett</td>\n",
              "      <td>Padilla-Walker</td>\n",
              "      <td>Cigna</td>\n",
              "      <td>1204.733872</td>\n",
              "      <td>226</td>\n",
              "      <td>Urgent</td>\n",
              "      <td>24/04/2019</td>\n",
              "      <td>Lipitor</td>\n",
              "    </tr>\n",
              "    <tr>\n",
              "      <th>1</th>\n",
              "      <td>50002</td>\n",
              "      <td>BRookE mCcUlLough</td>\n",
              "      <td>85</td>\n",
              "      <td>Male</td>\n",
              "      <td>A-</td>\n",
              "      <td>Cancer</td>\n",
              "      <td>14/12/2019</td>\n",
              "      <td>Scott Davis</td>\n",
              "      <td>Nelson Walker Myers, and</td>\n",
              "      <td>Aetna</td>\n",
              "      <td>2177.616299</td>\n",
              "      <td>254</td>\n",
              "      <td>Emergency</td>\n",
              "      <td>25/12/2019</td>\n",
              "      <td>Penicillin</td>\n",
              "    </tr>\n",
              "    <tr>\n",
              "      <th>2</th>\n",
              "      <td>50003</td>\n",
              "      <td>DaNiEL THoMPSon</td>\n",
              "      <td>82</td>\n",
              "      <td>Female</td>\n",
              "      <td>A+</td>\n",
              "      <td>Cancer</td>\n",
              "      <td>14/02/2022</td>\n",
              "      <td>Kristin Martinez</td>\n",
              "      <td>Houston PLC</td>\n",
              "      <td>Cigna</td>\n",
              "      <td>8042.526388</td>\n",
              "      <td>131</td>\n",
              "      <td>Elective</td>\n",
              "      <td>07/05/2022</td>\n",
              "      <td>Penicillin</td>\n",
              "    </tr>\n",
              "    <tr>\n",
              "      <th>3</th>\n",
              "      <td>50004</td>\n",
              "      <td>nichOLas hunT</td>\n",
              "      <td>57</td>\n",
              "      <td>Male</td>\n",
              "      <td>B-</td>\n",
              "      <td>Asthma</td>\n",
              "      <td>08/04/2021</td>\n",
              "      <td>Mr. Luke Nunez Jr.</td>\n",
              "      <td>Hammond Ltd</td>\n",
              "      <td>Medicare</td>\n",
              "      <td>6060.230603</td>\n",
              "      <td>280</td>\n",
              "      <td>Elective</td>\n",
              "      <td>21/05/2021</td>\n",
              "      <td>Penicillin</td>\n",
              "    </tr>\n",
              "    <tr>\n",
              "      <th>4</th>\n",
              "      <td>50005</td>\n",
              "      <td>MElIssa mArTInEz</td>\n",
              "      <td>14</td>\n",
              "      <td>Male</td>\n",
              "      <td>AB-</td>\n",
              "      <td>Asthma</td>\n",
              "      <td>30/07/2022</td>\n",
              "      <td>Jacob Daniel</td>\n",
              "      <td>Morris-Arellano</td>\n",
              "      <td>Blue Cross</td>\n",
              "      <td>6902.620376</td>\n",
              "      <td>359</td>\n",
              "      <td>Urgent</td>\n",
              "      <td>09/09/2022</td>\n",
              "      <td>Lipitor</td>\n",
              "    </tr>\n",
              "  </tbody>\n",
              "</table>\n",
              "</div>"
            ],
            "text/plain": [
              "      ID               Name  Age  Gender Blood Type Medical Condition  \\\n",
              "0  50001      KRISTa GiBsoN   60    Male         B-          Diabetes   \n",
              "1  50002  BRookE mCcUlLough   85    Male         A-            Cancer   \n",
              "2  50003    DaNiEL THoMPSon   82  Female         A+            Cancer   \n",
              "3  50004      nichOLas hunT   57    Male         B-            Asthma   \n",
              "4  50005   MElIssa mArTInEz   14    Male        AB-            Asthma   \n",
              "\n",
              "  Date of Admission              Doctor                  Hospital  \\\n",
              "0        08/04/2019       Bruce Garrett            Padilla-Walker   \n",
              "1        14/12/2019         Scott Davis  Nelson Walker Myers, and   \n",
              "2        14/02/2022    Kristin Martinez               Houston PLC   \n",
              "3        08/04/2021  Mr. Luke Nunez Jr.               Hammond Ltd   \n",
              "4        30/07/2022        Jacob Daniel           Morris-Arellano   \n",
              "\n",
              "  Insurance Provider  Billing Amount  Room Number Admission Type  \\\n",
              "0              Cigna     1204.733872          226         Urgent   \n",
              "1              Aetna     2177.616299          254      Emergency   \n",
              "2              Cigna     8042.526388          131       Elective   \n",
              "3           Medicare     6060.230603          280       Elective   \n",
              "4         Blue Cross     6902.620376          359         Urgent   \n",
              "\n",
              "  Discharge Date  Medication  \n",
              "0     24/04/2019     Lipitor  \n",
              "1     25/12/2019  Penicillin  \n",
              "2     07/05/2022  Penicillin  \n",
              "3     21/05/2021  Penicillin  \n",
              "4     09/09/2022     Lipitor  "
            ]
          },
          "execution_count": 5,
          "metadata": {},
          "output_type": "execute_result"
        }
      ],
      "source": [
        "df.head()"
      ]
    },
    {
      "cell_type": "code",
      "execution_count": 6,
      "metadata": {
        "colab": {
          "base_uri": "https://localhost:8080/"
        },
        "id": "qQLZrEuVr2JU",
        "outputId": "1674a299-a66e-4964-9cf6-7937963b1094"
      },
      "outputs": [
        {
          "name": "stderr",
          "output_type": "stream",
          "text": [
            "C:\\Users\\Nouran\\AppData\\Local\\Temp\\ipykernel_39332\\2706223303.py:5: FutureWarning: A value is trying to be set on a copy of a DataFrame or Series through chained assignment using an inplace method.\n",
            "The behavior will change in pandas 3.0. This inplace method will never work because the intermediate object on which we are setting values always behaves as a copy.\n",
            "\n",
            "For example, when doing 'df[col].method(value, inplace=True)', try using 'df.method({col: value}, inplace=True)' or df[col] = df[col].method(value) instead, to perform the operation inplace on the original object.\n",
            "\n",
            "\n",
            "  df['Insurance Provider'].fillna(df['Insurance Provider'].mode()[0], inplace=True)\n",
            "C:\\Users\\Nouran\\AppData\\Local\\Temp\\ipykernel_39332\\2706223303.py:7: FutureWarning: A value is trying to be set on a copy of a DataFrame or Series through chained assignment using an inplace method.\n",
            "The behavior will change in pandas 3.0. This inplace method will never work because the intermediate object on which we are setting values always behaves as a copy.\n",
            "\n",
            "For example, when doing 'df[col].method(value, inplace=True)', try using 'df.method({col: value}, inplace=True)' or df[col] = df[col].method(value) instead, to perform the operation inplace on the original object.\n",
            "\n",
            "\n",
            "  df['Admission Type'].fillna(df['Admission Type'].mode()[0], inplace=True)\n",
            "C:\\Users\\Nouran\\AppData\\Local\\Temp\\ipykernel_39332\\2706223303.py:9: FutureWarning: A value is trying to be set on a copy of a DataFrame or Series through chained assignment using an inplace method.\n",
            "The behavior will change in pandas 3.0. This inplace method will never work because the intermediate object on which we are setting values always behaves as a copy.\n",
            "\n",
            "For example, when doing 'df[col].method(value, inplace=True)', try using 'df.method({col: value}, inplace=True)' or df[col] = df[col].method(value) instead, to perform the operation inplace on the original object.\n",
            "\n",
            "\n",
            "  df['Hospital'].fillna(df['Hospital'].mode()[0], inplace=True)\n",
            "C:\\Users\\Nouran\\AppData\\Local\\Temp\\ipykernel_39332\\2706223303.py:11: FutureWarning: A value is trying to be set on a copy of a DataFrame or Series through chained assignment using an inplace method.\n",
            "The behavior will change in pandas 3.0. This inplace method will never work because the intermediate object on which we are setting values always behaves as a copy.\n",
            "\n",
            "For example, when doing 'df[col].method(value, inplace=True)', try using 'df.method({col: value}, inplace=True)' or df[col] = df[col].method(value) instead, to perform the operation inplace on the original object.\n",
            "\n",
            "\n",
            "  df['Billing Amount'].fillna(df['Billing Amount'].mean(), inplace=True)\n",
            "C:\\Users\\Nouran\\AppData\\Local\\Temp\\ipykernel_39332\\2706223303.py:12: FutureWarning: A value is trying to be set on a copy of a DataFrame or Series through chained assignment using an inplace method.\n",
            "The behavior will change in pandas 3.0. This inplace method will never work because the intermediate object on which we are setting values always behaves as a copy.\n",
            "\n",
            "For example, when doing 'df[col].method(value, inplace=True)', try using 'df.method({col: value}, inplace=True)' or df[col] = df[col].method(value) instead, to perform the operation inplace on the original object.\n",
            "\n",
            "\n",
            "  df['Blood Type'].fillna(df['Blood Type'].mode()[0], inplace=True)\n"
          ]
        }
      ],
      "source": [
        "Final_df = data_preparation(df)"
      ]
    },
    {
      "cell_type": "code",
      "execution_count": 7,
      "metadata": {
        "colab": {
          "base_uri": "https://localhost:8080/",
          "height": 554
        },
        "id": "agq0EyeK38vt",
        "outputId": "74c75cdf-ef6a-40da-db6c-dcc3c0e3ca64"
      },
      "outputs": [
        {
          "data": {
            "text/plain": [
              "ID                    0\n",
              "Name                  0\n",
              "Age                   0\n",
              "Gender                0\n",
              "Blood Type            0\n",
              "Medical Condition     0\n",
              "Date of Admission     0\n",
              "Doctor                0\n",
              "Hospital              0\n",
              "Insurance Provider    0\n",
              "Billing Amount        0\n",
              "Room Number           0\n",
              "Admission Type        0\n",
              "Discharge Date        0\n",
              "Medication            0\n",
              "dtype: int64"
            ]
          },
          "execution_count": 7,
          "metadata": {},
          "output_type": "execute_result"
        }
      ],
      "source": [
        "df.isnull().sum()"
      ]
    },
    {
      "cell_type": "code",
      "execution_count": 8,
      "metadata": {
        "colab": {
          "base_uri": "https://localhost:8080/",
          "height": 273
        },
        "id": "pBkOqmAu3CCj",
        "outputId": "1233f208-2970-4234-a203-1dc63b1fc84a"
      },
      "outputs": [
        {
          "data": {
            "text/html": [
              "<div>\n",
              "<style scoped>\n",
              "    .dataframe tbody tr th:only-of-type {\n",
              "        vertical-align: middle;\n",
              "    }\n",
              "\n",
              "    .dataframe tbody tr th {\n",
              "        vertical-align: top;\n",
              "    }\n",
              "\n",
              "    .dataframe thead th {\n",
              "        text-align: right;\n",
              "    }\n",
              "</style>\n",
              "<table border=\"1\" class=\"dataframe\">\n",
              "  <thead>\n",
              "    <tr style=\"text-align: right;\">\n",
              "      <th></th>\n",
              "      <th>ID</th>\n",
              "      <th>Age</th>\n",
              "      <th>Billing Amount</th>\n",
              "      <th>Gender_Female</th>\n",
              "      <th>Gender_Male</th>\n",
              "      <th>Blood Type_A+</th>\n",
              "      <th>Blood Type_A-</th>\n",
              "      <th>Blood Type_AB+</th>\n",
              "      <th>Blood Type_AB-</th>\n",
              "      <th>Blood Type_B+</th>\n",
              "      <th>...</th>\n",
              "      <th>Insurance Provider_UnitedHealthcare</th>\n",
              "      <th>Admission Type_Elective</th>\n",
              "      <th>Admission Type_Emergency</th>\n",
              "      <th>Admission Type_Urgent</th>\n",
              "      <th>Medication_Aspirin</th>\n",
              "      <th>Medication_Ibuprofen</th>\n",
              "      <th>Medication_Lipitor</th>\n",
              "      <th>Medication_Paracetamol</th>\n",
              "      <th>Medication_Penicillin</th>\n",
              "      <th>Days Spent</th>\n",
              "    </tr>\n",
              "  </thead>\n",
              "  <tbody>\n",
              "    <tr>\n",
              "      <th>0</th>\n",
              "      <td>50001</td>\n",
              "      <td>0.60</td>\n",
              "      <td>0.095294</td>\n",
              "      <td>0</td>\n",
              "      <td>1</td>\n",
              "      <td>0</td>\n",
              "      <td>0</td>\n",
              "      <td>0</td>\n",
              "      <td>0</td>\n",
              "      <td>0</td>\n",
              "      <td>...</td>\n",
              "      <td>0</td>\n",
              "      <td>0</td>\n",
              "      <td>0</td>\n",
              "      <td>1</td>\n",
              "      <td>0</td>\n",
              "      <td>0</td>\n",
              "      <td>1</td>\n",
              "      <td>0</td>\n",
              "      <td>0</td>\n",
              "      <td>0.168317</td>\n",
              "    </tr>\n",
              "    <tr>\n",
              "      <th>1</th>\n",
              "      <td>50002</td>\n",
              "      <td>0.85</td>\n",
              "      <td>0.172366</td>\n",
              "      <td>0</td>\n",
              "      <td>1</td>\n",
              "      <td>0</td>\n",
              "      <td>1</td>\n",
              "      <td>0</td>\n",
              "      <td>0</td>\n",
              "      <td>0</td>\n",
              "      <td>...</td>\n",
              "      <td>0</td>\n",
              "      <td>0</td>\n",
              "      <td>1</td>\n",
              "      <td>0</td>\n",
              "      <td>0</td>\n",
              "      <td>0</td>\n",
              "      <td>0</td>\n",
              "      <td>0</td>\n",
              "      <td>1</td>\n",
              "      <td>0.118812</td>\n",
              "    </tr>\n",
              "    <tr>\n",
              "      <th>2</th>\n",
              "      <td>50003</td>\n",
              "      <td>0.82</td>\n",
              "      <td>0.636985</td>\n",
              "      <td>1</td>\n",
              "      <td>0</td>\n",
              "      <td>1</td>\n",
              "      <td>0</td>\n",
              "      <td>0</td>\n",
              "      <td>0</td>\n",
              "      <td>0</td>\n",
              "      <td>...</td>\n",
              "      <td>0</td>\n",
              "      <td>1</td>\n",
              "      <td>0</td>\n",
              "      <td>0</td>\n",
              "      <td>0</td>\n",
              "      <td>0</td>\n",
              "      <td>0</td>\n",
              "      <td>0</td>\n",
              "      <td>1</td>\n",
              "      <td>0.821782</td>\n",
              "    </tr>\n",
              "    <tr>\n",
              "      <th>3</th>\n",
              "      <td>50004</td>\n",
              "      <td>0.57</td>\n",
              "      <td>0.479947</td>\n",
              "      <td>0</td>\n",
              "      <td>1</td>\n",
              "      <td>0</td>\n",
              "      <td>0</td>\n",
              "      <td>0</td>\n",
              "      <td>0</td>\n",
              "      <td>0</td>\n",
              "      <td>...</td>\n",
              "      <td>0</td>\n",
              "      <td>1</td>\n",
              "      <td>0</td>\n",
              "      <td>0</td>\n",
              "      <td>0</td>\n",
              "      <td>0</td>\n",
              "      <td>0</td>\n",
              "      <td>0</td>\n",
              "      <td>1</td>\n",
              "      <td>0.435644</td>\n",
              "    </tr>\n",
              "    <tr>\n",
              "      <th>4</th>\n",
              "      <td>50005</td>\n",
              "      <td>0.14</td>\n",
              "      <td>0.546682</td>\n",
              "      <td>0</td>\n",
              "      <td>1</td>\n",
              "      <td>0</td>\n",
              "      <td>0</td>\n",
              "      <td>0</td>\n",
              "      <td>1</td>\n",
              "      <td>0</td>\n",
              "      <td>...</td>\n",
              "      <td>0</td>\n",
              "      <td>0</td>\n",
              "      <td>0</td>\n",
              "      <td>1</td>\n",
              "      <td>0</td>\n",
              "      <td>0</td>\n",
              "      <td>1</td>\n",
              "      <td>0</td>\n",
              "      <td>0</td>\n",
              "      <td>0.415842</td>\n",
              "    </tr>\n",
              "  </tbody>\n",
              "</table>\n",
              "<p>5 rows × 33 columns</p>\n",
              "</div>"
            ],
            "text/plain": [
              "      ID   Age  Billing Amount  Gender_Female  Gender_Male  Blood Type_A+  \\\n",
              "0  50001  0.60        0.095294              0            1              0   \n",
              "1  50002  0.85        0.172366              0            1              0   \n",
              "2  50003  0.82        0.636985              1            0              1   \n",
              "3  50004  0.57        0.479947              0            1              0   \n",
              "4  50005  0.14        0.546682              0            1              0   \n",
              "\n",
              "   Blood Type_A-  Blood Type_AB+  Blood Type_AB-  Blood Type_B+  ...  \\\n",
              "0              0               0               0              0  ...   \n",
              "1              1               0               0              0  ...   \n",
              "2              0               0               0              0  ...   \n",
              "3              0               0               0              0  ...   \n",
              "4              0               0               1              0  ...   \n",
              "\n",
              "   Insurance Provider_UnitedHealthcare  Admission Type_Elective  \\\n",
              "0                                    0                        0   \n",
              "1                                    0                        0   \n",
              "2                                    0                        1   \n",
              "3                                    0                        1   \n",
              "4                                    0                        0   \n",
              "\n",
              "   Admission Type_Emergency  Admission Type_Urgent  Medication_Aspirin  \\\n",
              "0                         0                      1                   0   \n",
              "1                         1                      0                   0   \n",
              "2                         0                      0                   0   \n",
              "3                         0                      0                   0   \n",
              "4                         0                      1                   0   \n",
              "\n",
              "   Medication_Ibuprofen  Medication_Lipitor  Medication_Paracetamol  \\\n",
              "0                     0                   1                       0   \n",
              "1                     0                   0                       0   \n",
              "2                     0                   0                       0   \n",
              "3                     0                   0                       0   \n",
              "4                     0                   1                       0   \n",
              "\n",
              "   Medication_Penicillin  Days Spent  \n",
              "0                      0    0.168317  \n",
              "1                      1    0.118812  \n",
              "2                      1    0.821782  \n",
              "3                      1    0.435644  \n",
              "4                      0    0.415842  \n",
              "\n",
              "[5 rows x 33 columns]"
            ]
          },
          "execution_count": 8,
          "metadata": {},
          "output_type": "execute_result"
        }
      ],
      "source": [
        "Final_df.head()"
      ]
    },
    {
      "cell_type": "code",
      "execution_count": 9,
      "metadata": {
        "colab": {
          "base_uri": "https://localhost:8080/"
        },
        "id": "ydkXBztQ3aaW",
        "outputId": "ee524e1f-5c7b-4bd1-f687-56793ebed061"
      },
      "outputs": [
        {
          "name": "stdout",
          "output_type": "stream",
          "text": [
            "Index(['ID', 'Age', 'Billing Amount', 'Gender_Female', 'Gender_Male',\n",
            "       'Blood Type_A+', 'Blood Type_A-', 'Blood Type_AB+', 'Blood Type_AB-',\n",
            "       'Blood Type_B+', 'Blood Type_B-', 'Blood Type_O+', 'Blood Type_O-',\n",
            "       'Medical Condition_Arthritis', 'Medical Condition_Asthma',\n",
            "       'Medical Condition_Cancer', 'Medical Condition_Diabetes',\n",
            "       'Medical Condition_Hypertension', 'Medical Condition_Obesity',\n",
            "       'Insurance Provider_Aetna', 'Insurance Provider_Blue Cross',\n",
            "       'Insurance Provider_Cigna', 'Insurance Provider_Medicare',\n",
            "       'Insurance Provider_UnitedHealthcare', 'Admission Type_Elective',\n",
            "       'Admission Type_Emergency', 'Admission Type_Urgent',\n",
            "       'Medication_Aspirin', 'Medication_Ibuprofen', 'Medication_Lipitor',\n",
            "       'Medication_Paracetamol', 'Medication_Penicillin', 'Days Spent'],\n",
            "      dtype='object')\n"
          ]
        }
      ],
      "source": [
        "#print the columns names\n",
        "print(Final_df.columns)"
      ]
    },
    {
      "cell_type": "code",
      "execution_count": 10,
      "metadata": {
        "colab": {
          "base_uri": "https://localhost:8080/",
          "height": 287
        },
        "id": "w29zcL9FsWAU",
        "outputId": "914d7139-1503-4358-e9b6-dd03bf5c481b"
      },
      "outputs": [
        {
          "name": "stderr",
          "output_type": "stream",
          "text": [
            "c:\\Users\\Nouran\\AppData\\Local\\Programs\\Python\\Python310\\lib\\pickle.py:1718: UserWarning: [20:02:06] WARNING: C:\\actions-runner\\_work\\xgboost\\xgboost\\src\\data\\../common/error_msg.h:82: If you are loading a serialized model (like pickle in Python, RDS in R) or\n",
            "configuration generated by an older version of XGBoost, please export the model by calling\n",
            "`Booster.save_model` from that version first, then load it back in current version. See:\n",
            "\n",
            "    https://xgboost.readthedocs.io/en/stable/tutorials/saving_model.html\n",
            "\n",
            "for more details about differences between saving model and serializing.\n",
            "\n",
            "  setstate(state)\n"
          ]
        }
      ],
      "source": [
        "model = joblib.load(r\"C:\\Users\\Nouran\\Downloads\\xgb_model(1).pkl\")\n"
      ]
    },
    {
      "cell_type": "code",
      "execution_count": 11,
      "metadata": {},
      "outputs": [],
      "source": [
        "# Drop the 'ID' column before prediction\n",
        "features_for_prediction = Final_df.drop(columns=['ID'])\n",
        "\n",
        "# Now pass only the required features\n",
        "predictions = model.predict(features_for_prediction)\n"
      ]
    },
    {
      "cell_type": "code",
      "execution_count": 12,
      "metadata": {
        "id": "o2d910yCsf4q"
      },
      "outputs": [],
      "source": [
        "predictions = model.predict(features_for_prediction)"
      ]
    },
    {
      "cell_type": "code",
      "execution_count": 13,
      "metadata": {
        "id": "4QnWZi72tIXT"
      },
      "outputs": [],
      "source": [
        "Final_df['Test Results'] = predictions"
      ]
    },
    {
      "cell_type": "code",
      "execution_count": 14,
      "metadata": {
        "colab": {
          "base_uri": "https://localhost:8080/",
          "height": 206
        },
        "id": "cmc3Dy7ptrca",
        "outputId": "44f3d8bb-7763-4090-e283-812f53387d3e"
      },
      "outputs": [
        {
          "data": {
            "text/html": [
              "<div>\n",
              "<style scoped>\n",
              "    .dataframe tbody tr th:only-of-type {\n",
              "        vertical-align: middle;\n",
              "    }\n",
              "\n",
              "    .dataframe tbody tr th {\n",
              "        vertical-align: top;\n",
              "    }\n",
              "\n",
              "    .dataframe thead th {\n",
              "        text-align: right;\n",
              "    }\n",
              "</style>\n",
              "<table border=\"1\" class=\"dataframe\">\n",
              "  <thead>\n",
              "    <tr style=\"text-align: right;\">\n",
              "      <th></th>\n",
              "      <th>ID</th>\n",
              "      <th>Age</th>\n",
              "      <th>Billing Amount</th>\n",
              "      <th>Gender_Female</th>\n",
              "      <th>Gender_Male</th>\n",
              "      <th>Blood Type_A+</th>\n",
              "      <th>Blood Type_A-</th>\n",
              "      <th>Blood Type_AB+</th>\n",
              "      <th>Blood Type_AB-</th>\n",
              "      <th>Blood Type_B+</th>\n",
              "      <th>...</th>\n",
              "      <th>Admission Type_Elective</th>\n",
              "      <th>Admission Type_Emergency</th>\n",
              "      <th>Admission Type_Urgent</th>\n",
              "      <th>Medication_Aspirin</th>\n",
              "      <th>Medication_Ibuprofen</th>\n",
              "      <th>Medication_Lipitor</th>\n",
              "      <th>Medication_Paracetamol</th>\n",
              "      <th>Medication_Penicillin</th>\n",
              "      <th>Days Spent</th>\n",
              "      <th>Test Results</th>\n",
              "    </tr>\n",
              "  </thead>\n",
              "  <tbody>\n",
              "    <tr>\n",
              "      <th>0</th>\n",
              "      <td>50001</td>\n",
              "      <td>0.60</td>\n",
              "      <td>0.095294</td>\n",
              "      <td>0</td>\n",
              "      <td>1</td>\n",
              "      <td>0</td>\n",
              "      <td>0</td>\n",
              "      <td>0</td>\n",
              "      <td>0</td>\n",
              "      <td>0</td>\n",
              "      <td>...</td>\n",
              "      <td>0</td>\n",
              "      <td>0</td>\n",
              "      <td>1</td>\n",
              "      <td>0</td>\n",
              "      <td>0</td>\n",
              "      <td>1</td>\n",
              "      <td>0</td>\n",
              "      <td>0</td>\n",
              "      <td>0.168317</td>\n",
              "      <td>1</td>\n",
              "    </tr>\n",
              "    <tr>\n",
              "      <th>1</th>\n",
              "      <td>50002</td>\n",
              "      <td>0.85</td>\n",
              "      <td>0.172366</td>\n",
              "      <td>0</td>\n",
              "      <td>1</td>\n",
              "      <td>0</td>\n",
              "      <td>1</td>\n",
              "      <td>0</td>\n",
              "      <td>0</td>\n",
              "      <td>0</td>\n",
              "      <td>...</td>\n",
              "      <td>0</td>\n",
              "      <td>1</td>\n",
              "      <td>0</td>\n",
              "      <td>0</td>\n",
              "      <td>0</td>\n",
              "      <td>0</td>\n",
              "      <td>0</td>\n",
              "      <td>1</td>\n",
              "      <td>0.118812</td>\n",
              "      <td>0</td>\n",
              "    </tr>\n",
              "    <tr>\n",
              "      <th>2</th>\n",
              "      <td>50003</td>\n",
              "      <td>0.82</td>\n",
              "      <td>0.636985</td>\n",
              "      <td>1</td>\n",
              "      <td>0</td>\n",
              "      <td>1</td>\n",
              "      <td>0</td>\n",
              "      <td>0</td>\n",
              "      <td>0</td>\n",
              "      <td>0</td>\n",
              "      <td>...</td>\n",
              "      <td>1</td>\n",
              "      <td>0</td>\n",
              "      <td>0</td>\n",
              "      <td>0</td>\n",
              "      <td>0</td>\n",
              "      <td>0</td>\n",
              "      <td>0</td>\n",
              "      <td>1</td>\n",
              "      <td>0.821782</td>\n",
              "      <td>0</td>\n",
              "    </tr>\n",
              "    <tr>\n",
              "      <th>3</th>\n",
              "      <td>50004</td>\n",
              "      <td>0.57</td>\n",
              "      <td>0.479947</td>\n",
              "      <td>0</td>\n",
              "      <td>1</td>\n",
              "      <td>0</td>\n",
              "      <td>0</td>\n",
              "      <td>0</td>\n",
              "      <td>0</td>\n",
              "      <td>0</td>\n",
              "      <td>...</td>\n",
              "      <td>1</td>\n",
              "      <td>0</td>\n",
              "      <td>0</td>\n",
              "      <td>0</td>\n",
              "      <td>0</td>\n",
              "      <td>0</td>\n",
              "      <td>0</td>\n",
              "      <td>1</td>\n",
              "      <td>0.435644</td>\n",
              "      <td>1</td>\n",
              "    </tr>\n",
              "    <tr>\n",
              "      <th>4</th>\n",
              "      <td>50005</td>\n",
              "      <td>0.14</td>\n",
              "      <td>0.546682</td>\n",
              "      <td>0</td>\n",
              "      <td>1</td>\n",
              "      <td>0</td>\n",
              "      <td>0</td>\n",
              "      <td>0</td>\n",
              "      <td>1</td>\n",
              "      <td>0</td>\n",
              "      <td>...</td>\n",
              "      <td>0</td>\n",
              "      <td>0</td>\n",
              "      <td>1</td>\n",
              "      <td>0</td>\n",
              "      <td>0</td>\n",
              "      <td>1</td>\n",
              "      <td>0</td>\n",
              "      <td>0</td>\n",
              "      <td>0.415842</td>\n",
              "      <td>2</td>\n",
              "    </tr>\n",
              "  </tbody>\n",
              "</table>\n",
              "<p>5 rows × 34 columns</p>\n",
              "</div>"
            ],
            "text/plain": [
              "      ID   Age  Billing Amount  Gender_Female  Gender_Male  Blood Type_A+  \\\n",
              "0  50001  0.60        0.095294              0            1              0   \n",
              "1  50002  0.85        0.172366              0            1              0   \n",
              "2  50003  0.82        0.636985              1            0              1   \n",
              "3  50004  0.57        0.479947              0            1              0   \n",
              "4  50005  0.14        0.546682              0            1              0   \n",
              "\n",
              "   Blood Type_A-  Blood Type_AB+  Blood Type_AB-  Blood Type_B+  ...  \\\n",
              "0              0               0               0              0  ...   \n",
              "1              1               0               0              0  ...   \n",
              "2              0               0               0              0  ...   \n",
              "3              0               0               0              0  ...   \n",
              "4              0               0               1              0  ...   \n",
              "\n",
              "   Admission Type_Elective  Admission Type_Emergency  Admission Type_Urgent  \\\n",
              "0                        0                         0                      1   \n",
              "1                        0                         1                      0   \n",
              "2                        1                         0                      0   \n",
              "3                        1                         0                      0   \n",
              "4                        0                         0                      1   \n",
              "\n",
              "   Medication_Aspirin  Medication_Ibuprofen  Medication_Lipitor  \\\n",
              "0                   0                     0                   1   \n",
              "1                   0                     0                   0   \n",
              "2                   0                     0                   0   \n",
              "3                   0                     0                   0   \n",
              "4                   0                     0                   1   \n",
              "\n",
              "   Medication_Paracetamol  Medication_Penicillin  Days Spent  Test Results  \n",
              "0                       0                      0    0.168317             1  \n",
              "1                       0                      1    0.118812             0  \n",
              "2                       0                      1    0.821782             0  \n",
              "3                       0                      1    0.435644             1  \n",
              "4                       0                      0    0.415842             2  \n",
              "\n",
              "[5 rows x 34 columns]"
            ]
          },
          "execution_count": 14,
          "metadata": {},
          "output_type": "execute_result"
        }
      ],
      "source": [
        "Final_df.head()"
      ]
    },
    {
      "cell_type": "code",
      "execution_count": 15,
      "metadata": {
        "id": "V8rAbbgQtK_A"
      },
      "outputs": [],
      "source": [
        "submission_df = Final_df[['ID', 'Test Results']]"
      ]
    },
    {
      "cell_type": "code",
      "execution_count": 16,
      "metadata": {
        "colab": {
          "base_uri": "https://localhost:8080/"
        },
        "id": "ISo3Z3dyuAed",
        "outputId": "accccd6c-fc60-4746-99af-1db9d8691672"
      },
      "outputs": [
        {
          "name": "stderr",
          "output_type": "stream",
          "text": [
            "C:\\Users\\Nouran\\AppData\\Local\\Temp\\ipykernel_39332\\3687894725.py:1: SettingWithCopyWarning: \n",
            "A value is trying to be set on a copy of a slice from a DataFrame.\n",
            "Try using .loc[row_indexer,col_indexer] = value instead\n",
            "\n",
            "See the caveats in the documentation: https://pandas.pydata.org/pandas-docs/stable/user_guide/indexing.html#returning-a-view-versus-a-copy\n",
            "  submission_df['Test Results'] = submission_df['Test Results'].replace({\n"
          ]
        }
      ],
      "source": [
        "submission_df['Test Results'] = submission_df['Test Results'].replace({\n",
        "    0: 'Normal',\n",
        "    1: 'Inconclusive',\n",
        "    2: 'Abnormal'\n",
        "})"
      ]
    },
    {
      "cell_type": "code",
      "execution_count": 17,
      "metadata": {
        "colab": {
          "base_uri": "https://localhost:8080/",
          "height": 206
        },
        "id": "pJVzLKQ4u8yF",
        "outputId": "841cbd95-27ba-4d25-f037-de5006bf98e6"
      },
      "outputs": [
        {
          "data": {
            "text/html": [
              "<div>\n",
              "<style scoped>\n",
              "    .dataframe tbody tr th:only-of-type {\n",
              "        vertical-align: middle;\n",
              "    }\n",
              "\n",
              "    .dataframe tbody tr th {\n",
              "        vertical-align: top;\n",
              "    }\n",
              "\n",
              "    .dataframe thead th {\n",
              "        text-align: right;\n",
              "    }\n",
              "</style>\n",
              "<table border=\"1\" class=\"dataframe\">\n",
              "  <thead>\n",
              "    <tr style=\"text-align: right;\">\n",
              "      <th></th>\n",
              "      <th>ID</th>\n",
              "      <th>Test Results</th>\n",
              "    </tr>\n",
              "  </thead>\n",
              "  <tbody>\n",
              "    <tr>\n",
              "      <th>0</th>\n",
              "      <td>50001</td>\n",
              "      <td>Inconclusive</td>\n",
              "    </tr>\n",
              "    <tr>\n",
              "      <th>1</th>\n",
              "      <td>50002</td>\n",
              "      <td>Normal</td>\n",
              "    </tr>\n",
              "    <tr>\n",
              "      <th>2</th>\n",
              "      <td>50003</td>\n",
              "      <td>Normal</td>\n",
              "    </tr>\n",
              "    <tr>\n",
              "      <th>3</th>\n",
              "      <td>50004</td>\n",
              "      <td>Inconclusive</td>\n",
              "    </tr>\n",
              "    <tr>\n",
              "      <th>4</th>\n",
              "      <td>50005</td>\n",
              "      <td>Abnormal</td>\n",
              "    </tr>\n",
              "  </tbody>\n",
              "</table>\n",
              "</div>"
            ],
            "text/plain": [
              "      ID  Test Results\n",
              "0  50001  Inconclusive\n",
              "1  50002        Normal\n",
              "2  50003        Normal\n",
              "3  50004  Inconclusive\n",
              "4  50005      Abnormal"
            ]
          },
          "execution_count": 17,
          "metadata": {},
          "output_type": "execute_result"
        }
      ],
      "source": [
        "submission_df.head()"
      ]
    },
    {
      "cell_type": "code",
      "execution_count": 18,
      "metadata": {
        "id": "tQQZc2D3u2yv"
      },
      "outputs": [],
      "source": [
        "submission_df.to_csv('submission.csv', index=False)"
      ]
    },
    {
      "cell_type": "code",
      "execution_count": 19,
      "metadata": {},
      "outputs": [
        {
          "name": "stdout",
          "output_type": "stream",
          "text": [
            "      ID  Test Results\n",
            "0  50001  Inconclusive\n",
            "1  50002        Normal\n",
            "2  50003        Normal\n",
            "3  50004  Inconclusive\n",
            "4  50005      Abnormal\n"
          ]
        }
      ],
      "source": [
        "# Display the first few rows of the submission DataFrame\n",
        "print(submission_df.head())"
      ]
    },
    {
      "cell_type": "code",
      "execution_count": 20,
      "metadata": {},
      "outputs": [
        {
          "data": {
            "text/plain": [
              "'D:\\\\year 3\\\\Semester 2\\\\Machine Learning\\\\Healthcare-test-results-classification-using-Machine-Learning\\\\Original Dataset\\\\submission.csv'"
            ]
          },
          "execution_count": 20,
          "metadata": {},
          "output_type": "execute_result"
        }
      ],
      "source": [
        "#download the submission file\n",
        "import shutil   \n",
        "shutil.move('submission.csv', r'D:\\year 3\\Semester 2\\Machine Learning\\Healthcare-test-results-classification-using-Machine-Learning\\Original Dataset\\submission.csv')"
      ]
    },
    {
      "cell_type": "code",
      "execution_count": null,
      "metadata": {},
      "outputs": [],
      "source": []
    }
  ],
  "metadata": {
    "colab": {
      "provenance": []
    },
    "kernelspec": {
      "display_name": "Python 3",
      "name": "python3"
    },
    "language_info": {
      "codemirror_mode": {
        "name": "ipython",
        "version": 3
      },
      "file_extension": ".py",
      "mimetype": "text/x-python",
      "name": "python",
      "nbconvert_exporter": "python",
      "pygments_lexer": "ipython3",
      "version": "3.10.0"
    }
  },
  "nbformat": 4,
  "nbformat_minor": 0
}
